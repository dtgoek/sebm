{
 "cells": [
  {
   "cell_type": "code",
   "execution_count": 178,
   "id": "50dac067-b752-44e3-acc8-e76738b7382f",
   "metadata": {},
   "outputs": [],
   "source": [
    "import os\n",
    "import sys\n",
    "sys.path.insert(1, os.getcwd())\n",
    "\n",
    "import numpy as np\n",
    "import rasterio\n",
    "import rioxarray\n",
    "import xarray as xr\n",
    "import pandas as pd\n",
    "from datetime import datetime, timezone, timedelta\n",
    "from matplotlib import pyplot as plt\n",
    "\n",
    "from sinosoidal_regression import sinusoidal_regression\n",
    "import energy_balance_model as eb"
   ]
  },
  {
   "cell_type": "code",
   "execution_count": 180,
   "id": "0efa7bb2-376d-483d-847d-cfb4aa1a7f34",
   "metadata": {},
   "outputs": [],
   "source": [
    "LST_folder = os.path.join(os.getcwd(), 'data',  'LandSurfaceTemperature')\n",
    "WR_folder = os.path.join(os.getcwd(), 'data',  'warmingrate')\n",
    "cast_shadow_folder=os.path.join(os.getcwd(), 'data', 'AdditionalDatasets','CastShadowSurroundingTerrain')\n",
    "\n",
    "LST_paths = [os.path.join(LST_folder, i) for i in os.listdir(LST_folder)]\n",
    "WR_paths = [os.path.join(WR_folder, i) for i in os.listdir(WR_folder)]\n",
    "castshadow_paths = [os.path.join(cast_shadow_folder, i) for i in os.listdir(cast_shadow_folder)]\n",
    "\n",
    "Era5_Land_path = os.path.join(os.getcwd(), 'data', 'ERA5_Land_aoi.csv')\n",
    "DEM_path = os.path.join(os.getcwd(), 'data', 'AdditionalDatasets', '20190830_optical_dem_utm_resampled.tif')\n",
    "class_path = os.path.join(os.getcwd(), 'data', 'AdditionalDatasets', 'classTIR_19.tif')"
   ]
  },
  {
   "cell_type": "code",
   "execution_count": 181,
   "id": "84786eee-c824-4e79-aab0-a1cd3a38dd61",
   "metadata": {},
   "outputs": [],
   "source": [
    "tmz=2 # conversion to utc\n",
    "   \n",
    "dtobj_list=pd.Series(\n",
    "    [datetime(2019, 8, 30, 9, 0, 0).replace(tzinfo=timezone.utc) - timedelta(hours = tmz),\n",
    "    datetime(2019, 8, 30, 11, 0, 0).replace(tzinfo=timezone.utc) - timedelta(hours = tmz),\n",
    "    datetime(2019, 8, 30, 13, 0, 0).replace(tzinfo=timezone.utc) - timedelta(hours = tmz),\n",
    "    datetime(2019, 8, 30, 15, 0, 0).replace(tzinfo=timezone.utc) - timedelta(hours = tmz),\n",
    "    datetime(2019, 8, 30, 17, 0, 0).replace(tzinfo=timezone.utc) - timedelta(hours = tmz),\n",
    "    datetime(2019, 8, 30, 19, 0, 0).replace(tzinfo=timezone.utc) - timedelta(hours = tmz),\n",
    "    datetime(2019, 8, 30, 21, 0, 0).replace(tzinfo=timezone.utc) - timedelta(hours = tmz),\n",
    "    datetime(2019, 8, 30, 22, 0, 0).replace(tzinfo=timezone.utc) - timedelta(hours = tmz)])"
   ]
  },
  {
   "cell_type": "markdown",
   "id": "5ce9330e-30dd-4833-824d-bd482fb750cc",
   "metadata": {},
   "source": [
    "## Load Datasets"
   ]
  },
  {
   "cell_type": "markdown",
   "id": "1bb7ccd5-a9f7-4e23-acde-7b0805e97b73",
   "metadata": {},
   "source": [
    "Read Era5 csv (previously extracted from netcdf file at loacation of TN Glacier)"
   ]
  },
  {
   "cell_type": "code",
   "execution_count": 182,
   "id": "55997236-98c3-4f1e-856c-19d9721aa507",
   "metadata": {},
   "outputs": [],
   "source": [
    "Era5_Land_subset = pd.read_csv(Era5_Land_path, index_col = 'datetime') # read ERA5 from csv\n",
    "Era5_Land_subset.index = pd.to_datetime(Era5_Land_subset.index).rename('time') # make datetime to index\n",
    "Era5_Land_subset = Era5_Land_subset[Era5_Land_subset.index.isin(dtobj_list)] # subset data to time of flights\n",
    "Era5_Land_subset['rh'] = eb.relative_humidity(Era5_Land_subset['t2mC'], Era5_Land_subset['d2mC']) # calculate relative humidity from dew point and air tempertaure\n",
    "Era5_Land_subset=Era5_Land_subset.rename({'slhf':'SurfaceLatentHeatFlux', \n",
    "                                          'ssr':'SurfaceSolarRadiation', \n",
    "                                          'str':'SurfaceNetThermalRadiation',\n",
    "                                          'sshf': 'SurfaceSensibleHeatFlux',\n",
    "                                          'ssrd': 'SurfaceSolarRadiationDownwards', \n",
    "                                          'strd': 'LWin', \n",
    "                                          't2mC':'AirTemperature', \n",
    "                                          'd2mC':'DewTemperature'}, axis=1) # rename ERA5 columns"
   ]
  },
  {
   "cell_type": "markdown",
   "id": "c2ce4c78-d840-46ef-8eff-81e909bbbd7f",
   "metadata": {},
   "source": [
    "Creates a xarray dataset and merges with ERA5"
   ]
  },
  {
   "cell_type": "code",
   "execution_count": 108,
   "id": "773f7d82-a884-452a-8111-bebb22f4464f",
   "metadata": {},
   "outputs": [],
   "source": [
    "time_var = xr.Variable('time', dtobj_list)\n",
    "dataset = xr.concat([xr.open_rasterio(i) for i in LST_paths], dim=time_var).to_dataset('band').rename({1: 'LST'})\n",
    "dataset = xr.merge([dataset, Era5_Land_subset.to_xarray()]) "
   ]
  },
  {
   "cell_type": "markdown",
   "id": "f3837730-c05d-4e02-bf2e-326246fe3a7c",
   "metadata": {},
   "source": [
    "Load warming rate files as list of 2darrays"
   ]
  },
  {
   "cell_type": "code",
   "execution_count": 109,
   "id": "8c43a5f2-1922-435d-945a-863b5eb5e07f",
   "metadata": {},
   "outputs": [],
   "source": [
    "wr_maps = [rasterio.open(i).read(1)for i in WR_paths]"
   ]
  },
  {
   "cell_type": "code",
   "execution_count": 110,
   "id": "757c9f41-6444-4de5-91bb-d09090c1e902",
   "metadata": {},
   "outputs": [],
   "source": [
    "dataset['WR']=xr.DataArray(data=wr_maps, dims=[\"time\", \"y\", \"x\"])\n",
    "dataset['WR']=xr.where(dataset['WR']==-0, np.nan, dataset['WR']) #nodata area to NaN"
   ]
  },
  {
   "cell_type": "markdown",
   "id": "111612bf-5d0e-4449-b1d3-e70988dd3926",
   "metadata": {},
   "source": [
    "Load cast shadow files as list of 2darrays"
   ]
  },
  {
   "cell_type": "code",
   "execution_count": 123,
   "id": "0397092b-7e87-4e53-b6ff-59243fd5481d",
   "metadata": {},
   "outputs": [],
   "source": [
    "castshadows = [rasterio.open(i).read(1)for i in castshadow_paths]"
   ]
  },
  {
   "cell_type": "markdown",
   "id": "6c87e81e-4e01-4460-abbd-8b6d6be82187",
   "metadata": {},
   "source": [
    "Load DEM with nodata values as np.nan"
   ]
  },
  {
   "cell_type": "code",
   "execution_count": 111,
   "id": "69ce7ec0-7523-4414-aeaf-ea9a5a5f44c9",
   "metadata": {},
   "outputs": [],
   "source": [
    "DEM = rasterio.open(DEM_path).read(1)\n",
    "nodata_bool = np.array(DEM==-32767)\n",
    "DEM[nodata_bool] = np.nan"
   ]
  },
  {
   "cell_type": "markdown",
   "id": "2c5e3c6b-0fa9-4c82-8b5d-fc10dfcff0fb",
   "metadata": {},
   "source": [
    "Load ice/debris image segmentation file "
   ]
  },
  {
   "cell_type": "code",
   "execution_count": 112,
   "id": "72646572-2b0a-47bd-ac84-cbbdb7221c80",
   "metadata": {},
   "outputs": [],
   "source": [
    "ice_debris_segmentation = rasterio.open(class_path).read(1)"
   ]
  },
  {
   "cell_type": "markdown",
   "id": "9f35d79f-af20-454d-9786-ac24333814f8",
   "metadata": {},
   "source": [
    "## Surface Energy Balance Model"
   ]
  },
  {
   "cell_type": "code",
   "execution_count": 175,
   "id": "2ca691d4-3da7-4656-9c0b-58274d0ba394",
   "metadata": {},
   "outputs": [],
   "source": [
    "flight_times = [9, 11, 13, 15, 17, 19, 21, 22]\n",
    "lat = 46.012 \n",
    "lon = 7.47\n",
    "\n",
    "parameter = {'albedo_d': 0.3,\n",
    "             'albedo_i': 0.64,\n",
    "             'emiss_d': 0.94,\n",
    "             'emiss_i': 0.97,\n",
    "             'O3': 0.3,\n",
    "             'k_eff': 0.96,\n",
    "             'visibility': 30,\n",
    "             'alphag': 0.2, \n",
    "             'z0': 0.016,\n",
    "             'zu': 10,\n",
    "             'zt': 2,\n",
    "             'NLA_factor': 1.0,\n",
    "             'density_air_sealevel': 1.29,\n",
    "             'P0': 101325,\n",
    "             'T0': 288.15,\n",
    "             #'Lb': -0.0065,\n",
    "             'z0': 0.016,\n",
    "             'density_d': 1496,\n",
    "             'c_d': 948,\n",
    "             'c_air': 1010}"
   ]
  },
  {
   "cell_type": "code",
   "execution_count": 114,
   "id": "3f11086a-a14f-42df-be24-36ef293be409",
   "metadata": {},
   "outputs": [],
   "source": [
    "emissivity = np.zeros(ice_debris_segmentation.shape)\n",
    "emissivity[ice_debris_segmentation==1]=parameter['emiss_i']  \n",
    "emissivity[ice_debris_segmentation==0]=parameter['emiss_d']  \n",
    "emissivity[nodata_bool] = np.nan"
   ]
  },
  {
   "cell_type": "code",
   "execution_count": 115,
   "id": "a06e3cfa-0c29-48f0-bfbc-9ef375440b76",
   "metadata": {},
   "outputs": [],
   "source": [
    "albedo = np.zeros(ice_debris_segmentation.shape)\n",
    "albedo[ice_debris_segmentation==1]=parameter['albedo_i'] \n",
    "albedo[ice_debris_segmentation==0]=parameter['albedo_d']\n",
    "albedo[nodata_bool] = np.nan"
   ]
  },
  {
   "cell_type": "code",
   "execution_count": 116,
   "id": "12f780cc-19f2-4e86-96d5-678986662fcf",
   "metadata": {},
   "outputs": [],
   "source": [
    "dataset['LWout'] = eb.calc_lout(emissivity, dataset.LST).transpose(\"time\", \"y\", \"x\") \n",
    "dataset['LWnet'] = eb.calc_lnet(dataset.LWin, dataset.LWout) "
   ]
  },
  {
   "cell_type": "code",
   "execution_count": 125,
   "id": "5d4770cd-e5e8-43e5-8733-abe16d1fe798",
   "metadata": {},
   "outputs": [
    {
     "name": "stdout",
     "output_type": "stream",
     "text": [
      "2019-08-30 07:00:00+00:00\n",
      "zenith: 78.44595143054319\n",
      "Id:  457.60799188988545\n",
      "In:  69.928327597518\n",
      "\n",
      "2019-08-30 09:00:00+00:00\n",
      "zenith: 58.093433758115445\n",
      "Id:  772.6380831411692\n",
      "In:  112.88272580337568\n",
      "\n",
      "2019-08-30 11:00:00+00:00\n",
      "zenith: 41.8010123937845\n",
      "Id:  864.4495874062616\n",
      "In:  127.62931137949019\n",
      "\n",
      "2019-08-30 13:00:00+00:00\n",
      "zenith: 37.55152511145905\n",
      "Id:  879.0506332914752\n",
      "In:  130.25635666764322\n",
      "\n",
      "2019-08-30 15:00:00+00:00\n",
      "zenith: 48.87218570276142\n",
      "Id:  831.0175593410412\n",
      "In:  121.99425732532727\n",
      "\n",
      "2019-08-30 17:00:00+00:00\n",
      "zenith: 67.89224727647722\n",
      "Id:  670.6747751611584\n",
      "In:  98.46872803182357\n",
      "\n",
      "2019-08-30 19:00:00+00:00\n",
      "zenith: 88.62795579078193\n",
      "Id:  52.408703112842076\n",
      "In:  5.0235667598582525\n",
      "\n",
      "2019-08-30 20:00:00+00:00\n",
      "zenith: 98.59551960981355\n",
      "Id:  0\n",
      "In:  0\n",
      "\n"
     ]
    },
    {
     "name": "stderr",
     "output_type": "stream",
     "text": [
      "D:\\COLD\\sebm_paper\\frontiers_submission\\04_UAV_SEBM\\energy_balance_model.py:323: RuntimeWarning: invalid value encountered in double_scalars\n",
      "  Mr = 1.0/(np.cos(theta)+0.15*((93.885-zenith)**(-1.253)))\n"
     ]
    }
   ],
   "source": [
    "swin=[]\n",
    "for n,i in enumerate(dtobj_list):\n",
    "    print(i)\n",
    "    sin = eb.calc_sin(dt_object=i,\n",
    "                      latitude=lat,\n",
    "                      longitude=lon,\n",
    "                      timezone=1, \n",
    "                      dem=DEM, \n",
    "                      res=dataset.attrs['transform'][0], \n",
    "                      vis=visibility, \n",
    "                      relhum=dataset.rh.values[n], \n",
    "                      TairK=dataset.AirTemperature.values[n]+273.15, \n",
    "                      O3=parameter['O3'], \n",
    "                      albedo_surrounding=parameter['alphag'], \n",
    "                      shadow_surrounding=castshadows[n])\n",
    "    swin.append(sin)\n",
    "    print()"
   ]
  },
  {
   "cell_type": "code",
   "execution_count": 130,
   "id": "1754d571-167e-44c6-a25a-16ff01999742",
   "metadata": {},
   "outputs": [],
   "source": [
    "dataset['SWin']  =  xr.DataArray(data=swin, dims=[\"time\", \"y\", \"x\"])\n",
    "dataset['SWnet'] = eb.calc_snet(albedo, dataset.SWin).transpose(\"time\", \"y\", \"x\")"
   ]
  },
  {
   "cell_type": "code",
   "execution_count": 140,
   "id": "4f923c3c-3b40-487a-b2bd-2652d8c6704a",
   "metadata": {},
   "outputs": [],
   "source": [
    "shf = eb.calc_shf(dataset.AirTemperature+273.15, dataset.LST+273.15, np.nanmean(DEM), dataset.wind, parameter['zt'], parameter['zu'], parameter['z0'])\n",
    "dataset['H'] = shf.transpose(\"time\", \"y\", \"x\")"
   ]
  },
  {
   "cell_type": "code",
   "execution_count": 153,
   "id": "a7858eb3-0d67-46f5-af09-42cf70237476",
   "metadata": {},
   "outputs": [
    {
     "name": "stdout",
     "output_type": "stream",
     "text": [
      "2019-08-30 07:00:00+00:00\n",
      "2019-08-30 09:00:00+00:00\n",
      "2019-08-30 11:00:00+00:00\n",
      "2019-08-30 13:00:00+00:00\n",
      "2019-08-30 15:00:00+00:00\n",
      "2019-08-30 17:00:00+00:00\n",
      "2019-08-30 19:00:00+00:00\n",
      "2019-08-30 20:00:00+00:00\n"
     ]
    }
   ],
   "source": [
    "debris_thickness=[]\n",
    "for n,i in enumerate(dtobj_list):\n",
    "    print(i)\n",
    "    dc= eb.debristhickness_prediction(sw=dataset.SWnet.values[n],\n",
    "                                          lw=dataset.LWnet.values[n],\n",
    "                                          H=dataset.H.values[n],\n",
    "                                          Ts=dataset.LST.values[n],\n",
    "                                          Ta=dataset.AirTemperature.values[n],\n",
    "                                          w_rate=dataset.WR.values[n], \n",
    "                                          params=parameter)\n",
    "    debris_thickness.append(dc)"
   ]
  },
  {
   "cell_type": "code",
   "execution_count": 160,
   "id": "9de1fcfd-452b-4ecc-ba0d-7cb9f6dacae5",
   "metadata": {},
   "outputs": [],
   "source": [
    "dataset['d_thickness'] = (['time', 'y', 'x'], debris_thickness)"
   ]
  },
  {
   "cell_type": "code",
   "execution_count": null,
   "id": "938d07ac-4d14-48f5-af3b-21518bdd5b2c",
   "metadata": {},
   "outputs": [],
   "source": []
  },
  {
   "cell_type": "code",
   "execution_count": null,
   "id": "0dc177fa-607d-4702-8ff2-2ddbeacef4a0",
   "metadata": {},
   "outputs": [],
   "source": []
  }
 ],
 "metadata": {
  "kernelspec": {
   "display_name": "Python 3",
   "language": "python",
   "name": "python3"
  },
  "language_info": {
   "codemirror_mode": {
    "name": "ipython",
    "version": 3
   },
   "file_extension": ".py",
   "mimetype": "text/x-python",
   "name": "python",
   "nbconvert_exporter": "python",
   "pygments_lexer": "ipython3",
   "version": "3.8.6"
  }
 },
 "nbformat": 4,
 "nbformat_minor": 5
}
