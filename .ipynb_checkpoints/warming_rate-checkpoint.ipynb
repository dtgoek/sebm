{
 "cells": [
  {
   "cell_type": "code",
   "execution_count": 1,
   "id": "0ee434b6-7658-4fd1-8383-02e60468ee23",
   "metadata": {},
   "outputs": [],
   "source": [
    "import sys\n",
    "sys.path.insert(1, r'D:\\COLD\\sebm_paper\\frontiers_submission\\04_UAV_SEBM')\n",
    "\n",
    "import os\n",
    "import numpy as np\n",
    "import rioxarray\n",
    "import xarray as xr\n",
    "import pandas as pd\n",
    "from datetime import datetime, timezone, timedelta\n",
    "from matplotlib import pyplot as plt\n",
    "from sinosoidal_regression import sinusoidal_regression"
   ]
  },
  {
   "cell_type": "code",
   "execution_count": 2,
   "id": "ac7c9659-f5d3-42db-90b1-f7d3b23222ba",
   "metadata": {},
   "outputs": [],
   "source": [
    "LST_folder = os.path.join(os.getcwd(), 'data',  'LandSurfaceTemperature')\n",
    "LST_paths = [os.path.join(LST_folder, i) for i in os.listdir(LST_folder)]"
   ]
  },
  {
   "cell_type": "code",
   "execution_count": 3,
   "id": "dc79301f-8656-43e5-8412-d3a6f7d52cf8",
   "metadata": {},
   "outputs": [],
   "source": [
    "flight_times = [9, 11, 13, 15, 17, 19, 21, 22] # local time of UAV flights\n",
    "tmz=2 # conversion to utc\n",
    "   \n",
    "dtobj_list=pd.Series(\n",
    "    [datetime(2019, 8, 30, 8, 45, 0).replace(tzinfo=timezone.utc) - timedelta(hours = tmz),\n",
    "    datetime(2019, 8, 30, 10, 40, 0).replace(tzinfo=timezone.utc) - timedelta(hours = tmz),\n",
    "    datetime(2019, 8, 30, 12, 50, 0).replace(tzinfo=timezone.utc) - timedelta(hours = tmz),\n",
    "    datetime(2019, 8, 30, 14, 40, 0).replace(tzinfo=timezone.utc) - timedelta(hours = tmz),\n",
    "    datetime(2019, 8, 30, 16, 40, 0).replace(tzinfo=timezone.utc) - timedelta(hours = tmz),\n",
    "    datetime(2019, 8, 30, 18, 30, 0).replace(tzinfo=timezone.utc) - timedelta(hours = tmz),\n",
    "    datetime(2019, 8, 30, 20, 30, 0).replace(tzinfo=timezone.utc) - timedelta(hours = tmz),\n",
    "    datetime(2019, 8, 30, 21, 30, 0).replace(tzinfo=timezone.utc) - timedelta(hours = tmz)])"
   ]
  },
  {
   "cell_type": "code",
   "execution_count": 4,
   "id": "f17c6835-b4ca-4904-86c7-8a7d91c53792",
   "metadata": {},
   "outputs": [],
   "source": [
    "time_var = xr.Variable('time', dtobj_list)\n",
    "dataset = xr.concat([xr.open_rasterio(i) for i in LST_paths], dim=time_var).to_dataset('band').rename({1: 'LST'})"
   ]
  },
  {
   "cell_type": "code",
   "execution_count": 5,
   "id": "35f67111-0723-450a-aa2f-5a69edac138e",
   "metadata": {},
   "outputs": [
    {
     "name": "stdout",
     "output_type": "stream",
     "text": [
      "dir created, sinusoidal_regression started\n"
     ]
    }
   ],
   "source": [
    "wr_path = os.path.join(os.getcwd(), 'data', 'warmingrate')\n",
    "\n",
    "if not os.path.exists(wr_path):              \n",
    "    os.makedirs(wr_path)\n",
    "    print('dir created, sinusoidal_regression started')\n",
    "    warmingrate = sinusoidal_regression(dataset.LST.data, output = None)  \n",
    "    dataset['WR'] = (['time', 'y', 'x'], warmingrate)\n",
    "    for n, i in enumerate(dataset.WR.data):\n",
    "        filename = 'warmingrate'+ '_' +dtobj_list[n].strftime(\"%Y%m%d_%H%M%S\")+'.tif'\n",
    "        dataset.WR.isel(time=n).rio.to_raster(os.path.join(wr_path, filename))"
   ]
  },
  {
   "cell_type": "code",
   "execution_count": null,
   "id": "f3017170-9ac3-4e9d-9966-94963533205d",
   "metadata": {},
   "outputs": [],
   "source": [
    "dataset.WR.plot(col='time')"
   ]
  }
 ],
 "metadata": {
  "kernelspec": {
   "display_name": "Python 3",
   "language": "python",
   "name": "python3"
  },
  "language_info": {
   "codemirror_mode": {
    "name": "ipython",
    "version": 3
   },
   "file_extension": ".py",
   "mimetype": "text/x-python",
   "name": "python",
   "nbconvert_exporter": "python",
   "pygments_lexer": "ipython3",
   "version": "3.8.6"
  }
 },
 "nbformat": 4,
 "nbformat_minor": 5
}
